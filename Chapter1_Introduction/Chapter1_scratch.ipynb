{
 "cells": [
  {
   "cell_type": "code",
   "execution_count": 30,
   "metadata": {
    "collapsed": true
   },
   "outputs": [],
   "source": [
    "from __future__ import division"
   ]
  },
  {
   "cell_type": "code",
   "execution_count": 29,
   "metadata": {
    "collapsed": true
   },
   "outputs": [],
   "source": [
    "x_a = 974\n",
    "n_a = 10072\n",
    "x_b = 1242\n",
    "n_b = 9886"
   ]
  },
  {
   "cell_type": "code",
   "execution_count": 32,
   "metadata": {
    "collapsed": false
   },
   "outputs": [
    {
     "data": {
      "text/plain": [
       "0.11103316965627819"
      ]
     },
     "execution_count": 32,
     "metadata": {},
     "output_type": "execute_result"
    }
   ],
   "source": [
    "p_pooled = (x_a + x_b) / (n_a + n_b)\n",
    "p_pooled"
   ]
  },
  {
   "cell_type": "code",
   "execution_count": 33,
   "metadata": {
    "collapsed": false
   },
   "outputs": [
    {
     "data": {
      "text/plain": [
       "0.004447945883692886"
      ]
     },
     "execution_count": 33,
     "metadata": {},
     "output_type": "execute_result"
    }
   ],
   "source": [
    "from math import sqrt\n",
    "se_pooled = sqrt(p_pooled * (1 - p_pooled) * (1 / n_a + 1 / n_b))\n",
    "se_pooled"
   ]
  },
  {
   "cell_type": "code",
   "execution_count": 34,
   "metadata": {
    "collapsed": false
   },
   "outputs": [
    {
     "data": {
      "text/plain": [
       "0.028928474040117697"
      ]
     },
     "execution_count": 34,
     "metadata": {},
     "output_type": "execute_result"
    }
   ],
   "source": [
    "d = (x_b / n_b) - (x_a / n_a)\n",
    "d"
   ]
  },
  {
   "cell_type": "code",
   "execution_count": 35,
   "metadata": {
    "collapsed": true
   },
   "outputs": [],
   "source": [
    "alpha = 0.05"
   ]
  },
  {
   "cell_type": "code",
   "execution_count": 36,
   "metadata": {
    "collapsed": false
   },
   "outputs": [
    {
     "data": {
      "text/plain": [
       "1.959963984540054"
      ]
     },
     "execution_count": 36,
     "metadata": {},
     "output_type": "execute_result"
    }
   ],
   "source": [
    "from scipy.stats import norm\n",
    "z_score = norm.ppf(1 - alpha / 2)\n",
    "z_score"
   ]
  },
  {
   "cell_type": "code",
   "execution_count": 38,
   "metadata": {
    "collapsed": false
   },
   "outputs": [
    {
     "data": {
      "text/plain": [
       "(0.020210660302896456, 0.037646287777338937)"
      ]
     },
     "execution_count": 38,
     "metadata": {},
     "output_type": "execute_result"
    }
   ],
   "source": [
    "confidence = (d - z_score * se_pooled, d + z_score * se_pooled)\n",
    "confidence"
   ]
  },
  {
   "cell_type": "code",
   "execution_count": 39,
   "metadata": {
    "collapsed": true
   },
   "outputs": [],
   "source": [
    "d_min = 0.02"
   ]
  },
  {
   "cell_type": "code",
   "execution_count": 1,
   "metadata": {
    "collapsed": true
   },
   "outputs": [],
   "source": [
    "import numpy as np"
   ]
  },
  {
   "cell_type": "code",
   "execution_count": 2,
   "metadata": {
    "collapsed": true
   },
   "outputs": [],
   "source": [
    "count_data = np.loadtxt(\"data/txtdata.csv\")"
   ]
  },
  {
   "cell_type": "code",
   "execution_count": 3,
   "metadata": {
    "collapsed": false
   },
   "outputs": [
    {
     "data": {
      "text/plain": [
       "array([ 13.,  24.,   8.,  24.,   7.,  35.,  14.,  11.,  15.,  11.,  22.,\n",
       "        22.,  11.,  57.,  11.,  19.,  29.,   6.,  19.,  12.,  22.,  12.,\n",
       "        18.,  72.,  32.,   9.,   7.,  13.,  19.,  23.,  27.,  20.,   6.,\n",
       "        17.,  13.,  10.,  14.,   6.,  16.,  15.,   7.,   2.,  15.,  15.,\n",
       "        19.,  70.,  49.,   7.,  53.,  22.,  21.,  31.,  19.,  11.,  18.,\n",
       "        20.,  12.,  35.,  17.,  23.,  17.,   4.,   2.,  31.,  30.,  13.,\n",
       "        27.,   0.,  39.,  37.,   5.,  14.,  13.,  22.])"
      ]
     },
     "execution_count": 3,
     "metadata": {},
     "output_type": "execute_result"
    }
   ],
   "source": [
    "count_data"
   ]
  },
  {
   "cell_type": "code",
   "execution_count": 4,
   "metadata": {
    "collapsed": true
   },
   "outputs": [],
   "source": [
    "import pymc as pm"
   ]
  },
  {
   "cell_type": "code",
   "execution_count": 5,
   "metadata": {
    "collapsed": false
   },
   "outputs": [],
   "source": [
    "alpha = 1. / count_data.mean() # the Exponential hyperparam\n",
    "\n",
    "lambda_1 = pm.Exponential(\"lambda_1\", alpha)\n",
    "lambda_2 = pm.Exponential(\"lambda_2\", alpha)\n",
    "\n",
    "tau = pm.DiscreteUniform(\"tau\", lower=0, upper=len(count_data))"
   ]
  },
  {
   "cell_type": "code",
   "execution_count": 6,
   "metadata": {
    "collapsed": false
   },
   "outputs": [
    {
     "name": "stdout",
     "output_type": "stream",
     "text": [
      "4.5962767773\n",
      "47.6979456299\n",
      "12\n"
     ]
    }
   ],
   "source": [
    "print lambda_1.random()\n",
    "print lambda_2.random()\n",
    "print tau.random()"
   ]
  },
  {
   "cell_type": "code",
   "execution_count": 7,
   "metadata": {
    "collapsed": false
   },
   "outputs": [],
   "source": [
    "@pm.deterministic\n",
    "def lambda_(tau=tau, lambda_1=lambda_1, lambda_2=lambda_2):\n",
    "    # Stepwise function to calculate overall lambda\n",
    "    out = np.zeros(len(count_data))\n",
    "    out[:tau] = lambda_1 # Step 1, lambda before tau is lambda1\n",
    "    out[tau:] = lambda_2 # Step 2, lambda after tau (inclusive) is lambda2\n",
    "    return out"
   ]
  },
  {
   "cell_type": "code",
   "execution_count": 8,
   "metadata": {
    "collapsed": false
   },
   "outputs": [
    {
     "data": {
      "text/plain": [
       "array([  4.59627678,   4.59627678,   4.59627678,   4.59627678,\n",
       "         4.59627678,   4.59627678,   4.59627678,   4.59627678,\n",
       "         4.59627678,   4.59627678,   4.59627678,   4.59627678,\n",
       "        47.69794563,  47.69794563,  47.69794563,  47.69794563,\n",
       "        47.69794563,  47.69794563,  47.69794563,  47.69794563,\n",
       "        47.69794563,  47.69794563,  47.69794563,  47.69794563,\n",
       "        47.69794563,  47.69794563,  47.69794563,  47.69794563,\n",
       "        47.69794563,  47.69794563,  47.69794563,  47.69794563,\n",
       "        47.69794563,  47.69794563,  47.69794563,  47.69794563,\n",
       "        47.69794563,  47.69794563,  47.69794563,  47.69794563,\n",
       "        47.69794563,  47.69794563,  47.69794563,  47.69794563,\n",
       "        47.69794563,  47.69794563,  47.69794563,  47.69794563,\n",
       "        47.69794563,  47.69794563,  47.69794563,  47.69794563,\n",
       "        47.69794563,  47.69794563,  47.69794563,  47.69794563,\n",
       "        47.69794563,  47.69794563,  47.69794563,  47.69794563,\n",
       "        47.69794563,  47.69794563,  47.69794563,  47.69794563,\n",
       "        47.69794563,  47.69794563,  47.69794563,  47.69794563,\n",
       "        47.69794563,  47.69794563,  47.69794563,  47.69794563,\n",
       "        47.69794563,  47.69794563])"
      ]
     },
     "execution_count": 8,
     "metadata": {},
     "output_type": "execute_result"
    }
   ],
   "source": [
    "lambda_.value"
   ]
  },
  {
   "cell_type": "code",
   "execution_count": 9,
   "metadata": {
    "collapsed": false
   },
   "outputs": [
    {
     "name": "stdout",
     "output_type": "stream",
     "text": [
      "lamba_1: 4.596277, lamba_2: 47.697946\n"
     ]
    }
   ],
   "source": [
    "print \"lamba_1: %f, lamba_2: %f\" % (lambda_1.value, lambda_2.value)"
   ]
  },
  {
   "cell_type": "code",
   "execution_count": 10,
   "metadata": {
    "collapsed": false
   },
   "outputs": [
    {
     "name": "stdout",
     "output_type": "stream",
     "text": [
      "lamba_1: 0.268647, lamba_2: 17.657082\n",
      "lamba_1: 0.268647, lamba_2: 17.657082\n"
     ]
    }
   ],
   "source": [
    "print \"lamba_1: %f, lamba_2: %f\" % (lambda_1.random(), lambda_2.random())\n",
    "print \"lamba_1: %f, lamba_2: %f\" % (lambda_1.value, lambda_2.value)"
   ]
  },
  {
   "cell_type": "code",
   "execution_count": 11,
   "metadata": {
    "collapsed": false
   },
   "outputs": [
    {
     "data": {
      "text/plain": [
       "array([  0.26864749,   0.26864749,   0.26864749,   0.26864749,\n",
       "         0.26864749,   0.26864749,   0.26864749,   0.26864749,\n",
       "         0.26864749,   0.26864749,   0.26864749,   0.26864749,\n",
       "        17.65708174,  17.65708174,  17.65708174,  17.65708174,\n",
       "        17.65708174,  17.65708174,  17.65708174,  17.65708174,\n",
       "        17.65708174,  17.65708174,  17.65708174,  17.65708174,\n",
       "        17.65708174,  17.65708174,  17.65708174,  17.65708174,\n",
       "        17.65708174,  17.65708174,  17.65708174,  17.65708174,\n",
       "        17.65708174,  17.65708174,  17.65708174,  17.65708174,\n",
       "        17.65708174,  17.65708174,  17.65708174,  17.65708174,\n",
       "        17.65708174,  17.65708174,  17.65708174,  17.65708174,\n",
       "        17.65708174,  17.65708174,  17.65708174,  17.65708174,\n",
       "        17.65708174,  17.65708174,  17.65708174,  17.65708174,\n",
       "        17.65708174,  17.65708174,  17.65708174,  17.65708174,\n",
       "        17.65708174,  17.65708174,  17.65708174,  17.65708174,\n",
       "        17.65708174,  17.65708174,  17.65708174,  17.65708174,\n",
       "        17.65708174,  17.65708174,  17.65708174,  17.65708174,\n",
       "        17.65708174,  17.65708174,  17.65708174,  17.65708174,\n",
       "        17.65708174,  17.65708174])"
      ]
     },
     "execution_count": 11,
     "metadata": {},
     "output_type": "execute_result"
    }
   ],
   "source": [
    "lambda_.value"
   ]
  },
  {
   "cell_type": "code",
   "execution_count": 12,
   "metadata": {
    "collapsed": true
   },
   "outputs": [],
   "source": [
    "observation = pm.Poisson(\"obs\", lambda_, value=count_data, observed=True)"
   ]
  },
  {
   "cell_type": "code",
   "execution_count": 13,
   "metadata": {
    "collapsed": false
   },
   "outputs": [
    {
     "data": {
      "text/plain": [
       "array([13, 24,  8, 24,  7, 35, 14, 11, 15, 11, 22, 22, 11, 57, 11, 19, 29,\n",
       "        6, 19, 12, 22, 12, 18, 72, 32,  9,  7, 13, 19, 23, 27, 20,  6, 17,\n",
       "       13, 10, 14,  6, 16, 15,  7,  2, 15, 15, 19, 70, 49,  7, 53, 22, 21,\n",
       "       31, 19, 11, 18, 20, 12, 35, 17, 23, 17,  4,  2, 31, 30, 13, 27,  0,\n",
       "       39, 37,  5, 14, 13, 22])"
      ]
     },
     "execution_count": 13,
     "metadata": {},
     "output_type": "execute_result"
    }
   ],
   "source": [
    "observation.value"
   ]
  },
  {
   "cell_type": "code",
   "execution_count": 14,
   "metadata": {
    "collapsed": false
   },
   "outputs": [
    {
     "data": {
      "text/plain": [
       "array([ 1,  0,  0,  0,  1,  0,  0,  0,  0,  0,  0,  0, 18, 17, 10, 13, 19,\n",
       "       24, 20, 18, 17, 17, 26, 13, 15, 15, 16, 18, 27, 19, 15, 20, 12, 26,\n",
       "       23,  9, 14, 16, 24, 18, 16, 14, 16, 19, 20, 16, 20, 13, 22, 24, 18,\n",
       "       23, 12, 18, 20, 15, 13, 17, 11, 16, 19, 22, 15, 28, 18, 30, 15, 21,\n",
       "       13, 26, 15, 25, 14, 15])"
      ]
     },
     "execution_count": 14,
     "metadata": {},
     "output_type": "execute_result"
    }
   ],
   "source": [
    "observation.random()"
   ]
  },
  {
   "cell_type": "code",
   "execution_count": 15,
   "metadata": {
    "collapsed": false
   },
   "outputs": [
    {
     "data": {
      "text/plain": [
       "array([13, 24,  8, 24,  7, 35, 14, 11, 15, 11, 22, 22, 11, 57, 11, 19, 29,\n",
       "        6, 19, 12, 22, 12, 18, 72, 32,  9,  7, 13, 19, 23, 27, 20,  6, 17,\n",
       "       13, 10, 14,  6, 16, 15,  7,  2, 15, 15, 19, 70, 49,  7, 53, 22, 21,\n",
       "       31, 19, 11, 18, 20, 12, 35, 17, 23, 17,  4,  2, 31, 30, 13, 27,  0,\n",
       "       39, 37,  5, 14, 13, 22])"
      ]
     },
     "execution_count": 15,
     "metadata": {},
     "output_type": "execute_result"
    }
   ],
   "source": [
    "observation.value"
   ]
  },
  {
   "cell_type": "code",
   "execution_count": 16,
   "metadata": {
    "collapsed": true
   },
   "outputs": [],
   "source": [
    "new_observations = pm.Poisson(\"obs\", lambda_)"
   ]
  },
  {
   "cell_type": "code",
   "execution_count": 17,
   "metadata": {
    "collapsed": false
   },
   "outputs": [
    {
     "data": {
      "text/plain": [
       "array([ 0,  0,  0,  0,  1,  0,  0,  0,  0,  2,  1,  0, 19, 22, 17, 15, 19,\n",
       "       16, 21, 17, 20, 20, 27, 14, 18, 19, 14, 15, 19, 18, 15, 12, 18, 24,\n",
       "       24, 13, 18, 15, 26, 18, 13, 20, 11, 17, 17, 17, 25, 17, 21, 15, 15,\n",
       "       17, 19, 14, 15, 27, 16, 12, 15, 19, 11, 19, 12, 14, 19, 12, 13, 19,\n",
       "       17, 12, 14, 17,  8, 20])"
      ]
     },
     "execution_count": 17,
     "metadata": {},
     "output_type": "execute_result"
    }
   ],
   "source": [
    "new_observations.value"
   ]
  },
  {
   "cell_type": "code",
   "execution_count": 18,
   "metadata": {
    "collapsed": false
   },
   "outputs": [
    {
     "data": {
      "text/plain": [
       "array([ 0,  0,  1,  0,  0,  0,  0,  0,  0,  0,  0,  1, 20, 21, 20, 17, 17,\n",
       "       17, 11, 18, 12, 16, 24, 20, 16, 16, 27, 18, 18, 23, 11, 16, 24, 22,\n",
       "       20, 18, 18, 23, 21, 15, 20, 16, 20, 21, 21, 16, 17, 20, 19, 18, 24,\n",
       "       18, 11, 16, 19, 12, 19, 12, 14, 19, 16, 20, 20, 26, 27, 27, 12, 19,\n",
       "       26, 14, 11, 12, 16, 19])"
      ]
     },
     "execution_count": 18,
     "metadata": {},
     "output_type": "execute_result"
    }
   ],
   "source": [
    "new_observations.random()"
   ]
  },
  {
   "cell_type": "code",
   "execution_count": 19,
   "metadata": {
    "collapsed": false
   },
   "outputs": [
    {
     "data": {
      "text/plain": [
       "array([ 0,  0,  1,  0,  0,  0,  0,  0,  0,  0,  0,  1, 20, 21, 20, 17, 17,\n",
       "       17, 11, 18, 12, 16, 24, 20, 16, 16, 27, 18, 18, 23, 11, 16, 24, 22,\n",
       "       20, 18, 18, 23, 21, 15, 20, 16, 20, 21, 21, 16, 17, 20, 19, 18, 24,\n",
       "       18, 11, 16, 19, 12, 19, 12, 14, 19, 16, 20, 20, 26, 27, 27, 12, 19,\n",
       "       26, 14, 11, 12, 16, 19])"
      ]
     },
     "execution_count": 19,
     "metadata": {},
     "output_type": "execute_result"
    }
   ],
   "source": [
    "new_observations.value"
   ]
  },
  {
   "cell_type": "code",
   "execution_count": 20,
   "metadata": {
    "collapsed": true
   },
   "outputs": [],
   "source": [
    "model = pm.Model([observation, lambda_1, lambda_2, tau])"
   ]
  },
  {
   "cell_type": "code",
   "execution_count": 21,
   "metadata": {
    "collapsed": false
   },
   "outputs": [
    {
     "name": "stdout",
     "output_type": "stream",
     "text": [
      " [-----------------100%-----------------] 40000 of 40000 complete in 11.0 sec"
     ]
    }
   ],
   "source": [
    "mcmc = pm.MCMC(model)\n",
    "mcmc.sample(40000, 10000, 1)"
   ]
  },
  {
   "cell_type": "code",
   "execution_count": 22,
   "metadata": {
    "collapsed": false
   },
   "outputs": [
    {
     "name": "stdout",
     "output_type": "stream",
     "text": [
      "Help on method sample in module pymc.MCMC:\n",
      "\n",
      "sample(self, iter, burn=0, thin=1, tune_interval=1000, tune_throughout=True, save_interval=None, burn_till_tuned=False, stop_tuning_after=5, verbose=0, progress_bar=True) method of pymc.MCMC.MCMC instance\n",
      "    sample(iter, burn, thin, tune_interval, tune_throughout, save_interval, verbose, progress_bar)\n",
      "    \n",
      "    Initialize traces, run sampling loop, clean up afterward. Calls _loop.\n",
      "    \n",
      "    :Parameters:\n",
      "      - iter : int\n",
      "        Total number of iterations to do\n",
      "      - burn : int\n",
      "        Variables will not be tallied until this many iterations are complete, default 0\n",
      "      - thin : int\n",
      "        Variables will be tallied at intervals of this many iterations, default 1\n",
      "      - tune_interval : int\n",
      "        Step methods will be tuned at intervals of this many iterations, default 1000\n",
      "      - tune_throughout : boolean\n",
      "        If true, tuning will continue after the burnin period (True); otherwise tuning\n",
      "        will halt at the end of the burnin period.\n",
      "      - save_interval : int or None\n",
      "        If given, the model state will be saved at intervals of this many iterations\n",
      "      - verbose : boolean\n",
      "      - progress_bar : boolean\n",
      "        Display progress bar while sampling.\n",
      "      - burn_till_tuned: boolean\n",
      "        If True the Sampler would burn samples until all step methods are tuned.\n",
      "        A tuned step methods is one that was not tuned for the last `stop_tuning_after` tuning intervals.\n",
      "        The burn-in phase will have a minimum of 'burn' iterations but could be longer if\n",
      "        tuning is needed. After the phase is done the sampler will run for another\n",
      "        (iter - burn) iterations, and will tally the samples according to the 'thin' argument.\n",
      "        This means that the total number of iteration is update throughout the sampling\n",
      "        procedure.\n",
      "        If burn_till_tuned is True it also overrides the tune_thorughout argument, so no step method\n",
      "        will be tuned when sample are being tallied.\n",
      "      - stop_tuning_after: int\n",
      "        the number of untuned successive tuning interval needed to be reach in order for\n",
      "        the burn-in phase to be done (If burn_till_tuned is True).\n",
      "\n"
     ]
    }
   ],
   "source": [
    "help(mcmc.sample)"
   ]
  },
  {
   "cell_type": "code",
   "execution_count": 23,
   "metadata": {
    "collapsed": true
   },
   "outputs": [],
   "source": [
    "lambda_1_samples = mcmc.trace('lambda_1')[:]"
   ]
  },
  {
   "cell_type": "code",
   "execution_count": 24,
   "metadata": {
    "collapsed": false
   },
   "outputs": [
    {
     "data": {
      "text/plain": [
       "array([ 18.04637032,  18.04637032,  17.92836456, ...,  18.30261397,\n",
       "        18.38876685,  18.38876685])"
      ]
     },
     "execution_count": 24,
     "metadata": {},
     "output_type": "execute_result"
    }
   ],
   "source": [
    "lambda_1_samples"
   ]
  },
  {
   "cell_type": "code",
   "execution_count": 25,
   "metadata": {
    "collapsed": false
   },
   "outputs": [
    {
     "data": {
      "text/plain": [
       "(30000,)"
      ]
     },
     "execution_count": 25,
     "metadata": {},
     "output_type": "execute_result"
    }
   ],
   "source": [
    "lambda_1_samples.shape"
   ]
  },
  {
   "cell_type": "code",
   "execution_count": 26,
   "metadata": {
    "collapsed": true
   },
   "outputs": [],
   "source": [
    "lambda_2_samples = mcmc.trace('lambda_2')[:]\n",
    "tau_samples = mcmc.trace('tau')[:]"
   ]
  },
  {
   "cell_type": "code",
   "execution_count": 27,
   "metadata": {
    "collapsed": false
   },
   "outputs": [
    {
     "data": {
      "image/png": "[encoded data removed]",
      "text/plain": [
       "<matplotlib.figure.Figure at 0x10f58af10>"
      ]
     },
     "metadata": {},
     "output_type": "display_data"
    }
   ],
   "source": [
    "%matplotlib inline\n",
    "from IPython.core.pylabtools import figsize\n",
    "from matplotlib import pyplot as plt\n",
    "\n",
    "figsize(12.5, 10)\n",
    "\n",
    "n_count_data = len(count_data)\n",
    "\n",
    "# histogram of the samples:\n",
    "\n",
    "ax = plt.subplot(311)\n",
    "ax.set_autoscaley_on(False)\n",
    "\n",
    "plt.hist(lambda_1_samples, histtype='stepfilled', bins=30, alpha=0.85,\n",
    "         label=\"posterior of $\\lambda_1$\", color=\"#A60628\", normed=True)\n",
    "plt.legend(loc=\"upper left\")\n",
    "plt.title(r\"\"\"Posterior distributions of the variables\n",
    "    $\\lambda_1,\\;\\lambda_2,\\;\\tau$\"\"\")\n",
    "plt.xlim([15, 30])\n",
    "plt.xlabel(\"$\\lambda_1$ value\")\n",
    "\n",
    "ax = plt.subplot(312)\n",
    "ax.set_autoscaley_on(False)\n",
    "plt.hist(lambda_2_samples, histtype='stepfilled', bins=30, alpha=0.85,\n",
    "         label=\"posterior of $\\lambda_2$\", color=\"#7A68A6\", normed=True)\n",
    "plt.legend(loc=\"upper left\")\n",
    "plt.xlim([15, 30])\n",
    "plt.xlabel(\"$\\lambda_2$ value\")\n",
    "\n",
    "plt.subplot(313)\n",
    "w = 1.0 / tau_samples.shape[0] * np.ones_like(tau_samples)\n",
    "plt.hist(tau_samples, bins=n_count_data, alpha=1,\n",
    "         label=r\"posterior of $\\tau$\",\n",
    "         color=\"#467821\", weights=w, rwidth=2.)\n",
    "plt.xticks(np.arange(n_count_data))\n",
    "\n",
    "plt.legend(loc=\"upper left\")\n",
    "plt.ylim([0, .75])\n",
    "plt.xlim([35, len(count_data) - 20])\n",
    "plt.xlabel(r\"$\\tau$ (in days)\")\n",
    "plt.ylabel(\"probability\");"
   ]
  },
  {
   "cell_type": "code",
   "execution_count": 28,
   "metadata": {
    "collapsed": false
   },
   "outputs": [
    {
     "data": {
      "text/plain": [
       "17.738598355888286"
      ]
     },
     "execution_count": 28,
     "metadata": {},
     "output_type": "execute_result"
    }
   ],
   "source": [
    "lambda_1_samples.mean()"
   ]
  },
  {
   "cell_type": "code",
   "execution_count": null,
   "metadata": {
    "collapsed": true
   },
   "outputs": [],
   "source": []
  }
 ],
 "metadata": {
  "kernelspec": {
   "display_name": "Python [bayesian-hackers]",
   "language": "python",
   "name": "Python [bayesian-hackers]"
  },
  "language_info": {
   "codemirror_mode": {
    "name": "ipython",
    "version": 2
   },
   "file_extension": ".py",
   "mimetype": "text/x-python",
   "name": "python",
   "nbconvert_exporter": "python",
   "pygments_lexer": "ipython2",
   "version": "2.7.12"
  }
 },
 "nbformat": 4,
 "nbformat_minor": 0
}
